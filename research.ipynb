{
 "cells": [
  {
   "cell_type": "code",
   "execution_count": 10,
   "id": "2bcb6e16",
   "metadata": {},
   "outputs": [],
   "source": [
    "import string"
   ]
  },
  {
   "cell_type": "code",
   "execution_count": 11,
   "id": "a35089a9",
   "metadata": {},
   "outputs": [
    {
     "data": {
      "text/plain": [
       "'0123456789abcdefghijklmnopqrstuvwxyzABCDEFGHIJKLMNOPQRSTUVWXYZ!\"#$%&\\'()*+,-./:;<=>?@[\\\\]^_`{|}~ \\t\\n\\r\\x0b\\x0c'"
      ]
     },
     "execution_count": 11,
     "metadata": {},
     "output_type": "execute_result"
    }
   ],
   "source": [
    "ascii_characters = string.printable\n",
    "ascii_characters "
   ]
  },
  {
   "cell_type": "code",
   "execution_count": 15,
   "id": "d793342b",
   "metadata": {},
   "outputs": [
    {
     "data": {
      "text/plain": [
       "'0123456789abcdefghijklmnopqrstuvwxyzABCDEFGHIJKLMNOPQRSTUVWXYZ!\"#$%&\\'()*+,-./:;<=>?@[\\\\'"
      ]
     },
     "execution_count": 15,
     "metadata": {},
     "output_type": "execute_result"
    }
   ],
   "source": [
    "ascii_characters = ascii_characters[:-14]\n",
    "ascii_characters"
   ]
  },
  {
   "cell_type": "code",
   "execution_count": 20,
   "id": "b913323b",
   "metadata": {},
   "outputs": [
    {
     "ename": "NoSuchElementException",
     "evalue": "Message: no such element: Unable to locate element: {\"method\":\"css selector\",\"selector\":\"#option-typeface-9b9bc56c\"}\n  (Session info: chrome=97.0.4692.71)\nStacktrace:\nBacktrace:\n\tOrdinal0 [0x0065FDC3+2555331]\n\tOrdinal0 [0x005F77F1+2127857]\n\tOrdinal0 [0x004F2E08+1060360]\n\tOrdinal0 [0x0051E49E+1238174]\n\tOrdinal0 [0x0051E69B+1238683]\n\tOrdinal0 [0x00549252+1413714]\n\tOrdinal0 [0x00537B54+1342292]\n\tOrdinal0 [0x005475FA+1406458]\n\tOrdinal0 [0x00537976+1341814]\n\tOrdinal0 [0x005136B6+1193654]\n\tOrdinal0 [0x00514546+1197382]\n\tGetHandleVerifier [0x007F9622+1619522]\n\tGetHandleVerifier [0x008A882C+2336844]\n\tGetHandleVerifier [0x006F23E1+541697]\n\tGetHandleVerifier [0x006F1443+537699]\n\tOrdinal0 [0x005FD18E+2150798]\n\tOrdinal0 [0x00601518+2168088]\n\tOrdinal0 [0x00601660+2168416]\n\tOrdinal0 [0x0060B330+2208560]\n\tBaseThreadInitThunk [0x763F6739+25]\n\tRtlGetFullPathName_UEx [0x776F8AFF+1215]\n\tRtlGetFullPathName_UEx [0x776F8ACD+1165]\n",
     "output_type": "error",
     "traceback": [
      "\u001b[1;31m---------------------------------------------------------------------------\u001b[0m",
      "\u001b[1;31mNoSuchElementException\u001b[0m                    Traceback (most recent call last)",
      "Input \u001b[1;32mIn [20]\u001b[0m, in \u001b[0;36m<module>\u001b[1;34m\u001b[0m\n\u001b[0;32m      6\u001b[0m driver\u001b[38;5;241m.\u001b[39mget(\u001b[38;5;124m'\u001b[39m\u001b[38;5;124mhttps://onlineasciitools.com/convert-ascii-to-image\u001b[39m\u001b[38;5;124m'\u001b[39m)\n\u001b[0;32m      9\u001b[0m driver\u001b[38;5;241m.\u001b[39mexecute_script(\u001b[38;5;124m'\u001b[39m\u001b[38;5;124mwindow.scrollTo(0, 900);\u001b[39m\u001b[38;5;124m'\u001b[39m)\n\u001b[1;32m---> 10\u001b[0m font_dropdown \u001b[38;5;241m=\u001b[39m \u001b[43mdriver\u001b[49m\u001b[38;5;241;43m.\u001b[39;49m\u001b[43mfind_element\u001b[49m\u001b[43m(\u001b[49m\u001b[43mby\u001b[49m\u001b[38;5;241;43m=\u001b[39;49m\u001b[43mBy\u001b[49m\u001b[38;5;241;43m.\u001b[39;49m\u001b[43mCSS_SELECTOR\u001b[49m\u001b[43m,\u001b[49m\u001b[43m \u001b[49m\u001b[43mvalue\u001b[49m\u001b[38;5;241;43m=\u001b[39;49m\u001b[38;5;124;43m'\u001b[39;49m\u001b[38;5;124;43m#option-typeface-9b9bc56c\u001b[39;49m\u001b[38;5;124;43m'\u001b[39;49m\u001b[43m)\u001b[49m\n\u001b[0;32m     11\u001b[0m font_dropdown\u001b[38;5;241m.\u001b[39mclick()\n\u001b[0;32m     13\u001b[0m actions\u001b[38;5;241m.\u001b[39mmove_to_element(\u001b[38;5;124m'\u001b[39m\u001b[38;5;124mwindow.scrollTo(0, 0);\u001b[39m\u001b[38;5;124m'\u001b[39m)\u001b[38;5;241m.\u001b[39mperform()               \n",
      "File \u001b[1;32mc:\\users\\alexandre rodrigues\\desktop\\ascii-art\\.venv\\lib\\site-packages\\selenium\\webdriver\\remote\\webdriver.py:1244\u001b[0m, in \u001b[0;36mWebDriver.find_element\u001b[1;34m(self, by, value)\u001b[0m\n\u001b[0;32m   1241\u001b[0m     by \u001b[38;5;241m=\u001b[39m By\u001b[38;5;241m.\u001b[39mCSS_SELECTOR\n\u001b[0;32m   1242\u001b[0m     value \u001b[38;5;241m=\u001b[39m \u001b[38;5;124m'\u001b[39m\u001b[38;5;124m[name=\u001b[39m\u001b[38;5;124m\"\u001b[39m\u001b[38;5;132;01m%s\u001b[39;00m\u001b[38;5;124m\"\u001b[39m\u001b[38;5;124m]\u001b[39m\u001b[38;5;124m'\u001b[39m \u001b[38;5;241m%\u001b[39m value\n\u001b[1;32m-> 1244\u001b[0m \u001b[38;5;28;01mreturn\u001b[39;00m \u001b[38;5;28;43mself\u001b[39;49m\u001b[38;5;241;43m.\u001b[39;49m\u001b[43mexecute\u001b[49m\u001b[43m(\u001b[49m\u001b[43mCommand\u001b[49m\u001b[38;5;241;43m.\u001b[39;49m\u001b[43mFIND_ELEMENT\u001b[49m\u001b[43m,\u001b[49m\u001b[43m \u001b[49m\u001b[43m{\u001b[49m\n\u001b[0;32m   1245\u001b[0m \u001b[43m    \u001b[49m\u001b[38;5;124;43m'\u001b[39;49m\u001b[38;5;124;43musing\u001b[39;49m\u001b[38;5;124;43m'\u001b[39;49m\u001b[43m:\u001b[49m\u001b[43m \u001b[49m\u001b[43mby\u001b[49m\u001b[43m,\u001b[49m\n\u001b[0;32m   1246\u001b[0m \u001b[43m    \u001b[49m\u001b[38;5;124;43m'\u001b[39;49m\u001b[38;5;124;43mvalue\u001b[39;49m\u001b[38;5;124;43m'\u001b[39;49m\u001b[43m:\u001b[49m\u001b[43m \u001b[49m\u001b[43mvalue\u001b[49m\u001b[43m}\u001b[49m\u001b[43m)\u001b[49m[\u001b[38;5;124m'\u001b[39m\u001b[38;5;124mvalue\u001b[39m\u001b[38;5;124m'\u001b[39m]\n",
      "File \u001b[1;32mc:\\users\\alexandre rodrigues\\desktop\\ascii-art\\.venv\\lib\\site-packages\\selenium\\webdriver\\remote\\webdriver.py:424\u001b[0m, in \u001b[0;36mWebDriver.execute\u001b[1;34m(self, driver_command, params)\u001b[0m\n\u001b[0;32m    422\u001b[0m response \u001b[38;5;241m=\u001b[39m \u001b[38;5;28mself\u001b[39m\u001b[38;5;241m.\u001b[39mcommand_executor\u001b[38;5;241m.\u001b[39mexecute(driver_command, params)\n\u001b[0;32m    423\u001b[0m \u001b[38;5;28;01mif\u001b[39;00m response:\n\u001b[1;32m--> 424\u001b[0m     \u001b[38;5;28;43mself\u001b[39;49m\u001b[38;5;241;43m.\u001b[39;49m\u001b[43merror_handler\u001b[49m\u001b[38;5;241;43m.\u001b[39;49m\u001b[43mcheck_response\u001b[49m\u001b[43m(\u001b[49m\u001b[43mresponse\u001b[49m\u001b[43m)\u001b[49m\n\u001b[0;32m    425\u001b[0m     response[\u001b[38;5;124m'\u001b[39m\u001b[38;5;124mvalue\u001b[39m\u001b[38;5;124m'\u001b[39m] \u001b[38;5;241m=\u001b[39m \u001b[38;5;28mself\u001b[39m\u001b[38;5;241m.\u001b[39m_unwrap_value(\n\u001b[0;32m    426\u001b[0m         response\u001b[38;5;241m.\u001b[39mget(\u001b[38;5;124m'\u001b[39m\u001b[38;5;124mvalue\u001b[39m\u001b[38;5;124m'\u001b[39m, \u001b[38;5;28;01mNone\u001b[39;00m))\n\u001b[0;32m    427\u001b[0m     \u001b[38;5;28;01mreturn\u001b[39;00m response\n",
      "File \u001b[1;32mc:\\users\\alexandre rodrigues\\desktop\\ascii-art\\.venv\\lib\\site-packages\\selenium\\webdriver\\remote\\errorhandler.py:247\u001b[0m, in \u001b[0;36mErrorHandler.check_response\u001b[1;34m(self, response)\u001b[0m\n\u001b[0;32m    245\u001b[0m         alert_text \u001b[38;5;241m=\u001b[39m value[\u001b[38;5;124m'\u001b[39m\u001b[38;5;124malert\u001b[39m\u001b[38;5;124m'\u001b[39m]\u001b[38;5;241m.\u001b[39mget(\u001b[38;5;124m'\u001b[39m\u001b[38;5;124mtext\u001b[39m\u001b[38;5;124m'\u001b[39m)\n\u001b[0;32m    246\u001b[0m     \u001b[38;5;28;01mraise\u001b[39;00m exception_class(message, screen, stacktrace, alert_text)  \u001b[38;5;66;03m# type: ignore[call-arg]  # mypy is not smart enough here\u001b[39;00m\n\u001b[1;32m--> 247\u001b[0m \u001b[38;5;28;01mraise\u001b[39;00m exception_class(message, screen, stacktrace)\n",
      "\u001b[1;31mNoSuchElementException\u001b[0m: Message: no such element: Unable to locate element: {\"method\":\"css selector\",\"selector\":\"#option-typeface-9b9bc56c\"}\n  (Session info: chrome=97.0.4692.71)\nStacktrace:\nBacktrace:\n\tOrdinal0 [0x0065FDC3+2555331]\n\tOrdinal0 [0x005F77F1+2127857]\n\tOrdinal0 [0x004F2E08+1060360]\n\tOrdinal0 [0x0051E49E+1238174]\n\tOrdinal0 [0x0051E69B+1238683]\n\tOrdinal0 [0x00549252+1413714]\n\tOrdinal0 [0x00537B54+1342292]\n\tOrdinal0 [0x005475FA+1406458]\n\tOrdinal0 [0x00537976+1341814]\n\tOrdinal0 [0x005136B6+1193654]\n\tOrdinal0 [0x00514546+1197382]\n\tGetHandleVerifier [0x007F9622+1619522]\n\tGetHandleVerifier [0x008A882C+2336844]\n\tGetHandleVerifier [0x006F23E1+541697]\n\tGetHandleVerifier [0x006F1443+537699]\n\tOrdinal0 [0x005FD18E+2150798]\n\tOrdinal0 [0x00601518+2168088]\n\tOrdinal0 [0x00601660+2168416]\n\tOrdinal0 [0x0060B330+2208560]\n\tBaseThreadInitThunk [0x763F6739+25]\n\tRtlGetFullPathName_UEx [0x776F8AFF+1215]\n\tRtlGetFullPathName_UEx [0x776F8ACD+1165]\n"
     ]
    }
   ],
   "source": [
    "from selenium import webdriver\n",
    "from selenium.webdriver.common.by import By\n",
    "\n",
    "\n",
    "driver = webdriver.Chrome()\n",
    "driver.get('https://onlineasciitools.com/convert-ascii-to-image')\n",
    "\n",
    "\n",
    "driver.execute_script('window.scrollTo(0, 900);')\n",
    "font_dropdown = driver.find_element(by=By.CSS_SELECTOR, value='#option-typeface-9b9bc56c')\n",
    "\n",
    "\n",
    "/html/body/div[1]/div[2]/div[2]/div[3]/div/div[4]/div[2]/div/div[2]/div[3]/div/select\n",
    "\n",
    "font_dropdown.click()\n",
    "\n",
    "actions.move_to_element('window.scrollTo(0, 0);').perform()               \n",
    "\n",
    "input_box = driver.find_element_by_css_selector(\n",
    "    'body > div.page-content > div.page.container > div.content > div.all-tools-container > div > div.body > '\n",
    "    'div.sides-wrapper.clearfix > div.side.input > div > div.side-wrapper > div.data-wrapper > textarea'\n",
    ")\n",
    "\n",
    "#for character in ascii_characters:\n",
    "#    input_box.send_keys()\n",
    "#    input_box.clear()\n",
    "\n",
    "driver.close()"
   ]
  },
  {
   "cell_type": "code",
   "execution_count": null,
   "id": "688b57eb",
   "metadata": {},
   "outputs": [],
   "source": []
  }
 ],
 "metadata": {
  "kernelspec": {
   "display_name": "Python 3 (ipykernel)",
   "language": "python",
   "name": "python3"
  },
  "language_info": {
   "codemirror_mode": {
    "name": "ipython",
    "version": 3
   },
   "file_extension": ".py",
   "mimetype": "text/x-python",
   "name": "python",
   "nbconvert_exporter": "python",
   "pygments_lexer": "ipython3",
   "version": "3.9.0"
  }
 },
 "nbformat": 4,
 "nbformat_minor": 5
}
