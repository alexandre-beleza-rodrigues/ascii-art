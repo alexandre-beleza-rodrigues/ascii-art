{
 "cells": [
  {
   "cell_type": "code",
   "execution_count": 2,
   "id": "2bcb6e16",
   "metadata": {},
   "outputs": [
    {
     "data": {
      "text/plain": [
       "'0123456789abcdefghijklmnopqrstuvwxyzABCDEFGHIJKLMNOPQRSTUVWXYZ!\"#$%&\\'()*+,-./:;<=>?@[\\\\]^_`{|}~ \\t\\n\\r\\x0b\\x0c'"
      ]
     },
     "execution_count": 2,
     "metadata": {},
     "output_type": "execute_result"
    }
   ],
   "source": [
    "import string\n",
    "\n",
    "ascii_characters = string.printable\n",
    "ascii_characters "
   ]
  },
  {
   "cell_type": "code",
   "execution_count": 3,
   "id": "d793342b",
   "metadata": {},
   "outputs": [
    {
     "data": {
      "text/plain": [
       "'0123456789abcdefghijklmnopqrstuvwxyzABCDEFGHIJKLMNOPQRSTUVWXYZ!\"#$%&\\'()*+,-./:;<=>?@['"
      ]
     },
     "execution_count": 3,
     "metadata": {},
     "output_type": "execute_result"
    }
   ],
   "source": [
    "ascii_characters = ascii_characters[:-15]\n",
    "ascii_characters"
   ]
  },
  {
   "cell_type": "code",
   "execution_count": 9,
   "id": "b913323b",
   "metadata": {},
   "outputs": [],
   "source": [
    "from selenium import webdriver\n",
    "from selenium.webdriver.common.by import By\n",
    "import time\n",
    "\n",
    "\n",
    "driver = webdriver.Chrome()\n",
    "driver.get('https://onlineasciitools.com/convert-ascii-to-image')\n",
    "\n",
    "driver.maximize_window()\n",
    "time.sleep(1)\n",
    "\n",
    "driver.execute_script('window.scrollTo(0, 900);')\n",
    "\n",
    "font_dropdown = driver.find_element(By.CSS_SELECTOR, \"select.input-option[data-index='typeface']\")\n",
    "font_dropdown.click()\n",
    "\n",
    "monospace_option = driver.find_element(By.CSS_SELECTOR, \"option[value='monospace']\")\n",
    "monospace_option.click()\n",
    "\n",
    "driver.execute_script('window.scrollTo(0, 100);')   \n",
    "\n",
    "input_area = driver.find_element(By.CSS_SELECTOR, \"textarea.data\")\n",
    "for character in ascii_characters:\n",
    "    input_area.send_keys(character)\n",
    "    \n",
    "    time.sleep(1)\n",
    "    \n",
    "    save_btn = driver.find_elements(By.CSS_SELECTOR, \"div[data-toggle='toggle-save-as']\")[1]\n",
    "    save_btn.click()\n",
    "    \n",
    "    time.sleep(2)\n",
    "    \n",
    "    download_btn = driver.find_elements(By.CSS_SELECTOR, \"div.widget.widget-save-as\")[1]\n",
    "    download_btn.click()\n",
    "    \n",
    "    input_area.clear()\n",
    "\n",
    "driver.close()"
   ]
  },
  {
   "cell_type": "code",
   "execution_count": 4,
   "id": "688b57eb",
   "metadata": {},
   "outputs": [
    {
     "data": {
      "text/plain": [
       "['ascii_images/output-onlineasciitools.png',\n",
       " 'ascii_images/output-onlineasciitools (1).png',\n",
       " 'ascii_images/output-onlineasciitools (2).png',\n",
       " 'ascii_images/output-onlineasciitools (3).png',\n",
       " 'ascii_images/output-onlineasciitools (4).png']"
      ]
     },
     "execution_count": 4,
     "metadata": {},
     "output_type": "execute_result"
    }
   ],
   "source": [
    "files_names = ['output-onlineasciitools.png'] + [f'output-onlineasciitools ({num}).png' for num in range(1, 85)]\n",
    "files_directories = [f'ascii_images/{file_name}' for file_name in files_names]\n",
    "\n",
    "files_directories[:5]"
   ]
  },
  {
   "cell_type": "code",
   "execution_count": 5,
   "id": "5777c415",
   "metadata": {},
   "outputs": [
    {
     "data": {
      "text/plain": [
       "[('0', 'ascii_images/output-onlineasciitools.png'),\n",
       " ('1', 'ascii_images/output-onlineasciitools (1).png'),\n",
       " ('2', 'ascii_images/output-onlineasciitools (2).png'),\n",
       " ('3', 'ascii_images/output-onlineasciitools (3).png'),\n",
       " ('4', 'ascii_images/output-onlineasciitools (4).png')]"
      ]
     },
     "execution_count": 5,
     "metadata": {},
     "output_type": "execute_result"
    }
   ],
   "source": [
    "# because all the files are in the same order as 'ascii_characters' \n",
    "# we can just iterante through them and associate them with their respective carachter\n",
    "\n",
    "character_file_dict = {}\n",
    "\n",
    "for x in range(85):\n",
    "    character_file_dict[ascii_characters[x]] = files_directories[x]\n",
    "    \n",
    "list(character_file_dict.items())[:5]"
   ]
  },
  {
   "cell_type": "code",
   "execution_count": 6,
   "id": "370d9bb2",
   "metadata": {},
   "outputs": [
    {
     "data": {
      "image/png": "[encoded data removed]",
      "text/plain": [
       "<PIL.Image.Image image mode=L size=26x48 at 0x1F5E720E490>"
      ]
     },
     "metadata": {},
     "output_type": "display_data"
    },
    {
     "name": "stdout",
     "output_type": "stream",
     "text": [
      "[255, 255, 255, 255, 255, 255, 255, 255, 255, 255]\n",
      "1248\n",
      "1248\n"
     ]
    }
   ],
   "source": [
    "from PIL import Image\n",
    "\n",
    "img = Image.open('ascii_images/output-onlineasciitools.png').convert('L')\n",
    "\n",
    "display(img)\n",
    "print(list(img.getdata())[:10])\n",
    "print(len(list(img.getdata())))\n",
    "print(26*48)"
   ]
  },
  {
   "cell_type": "code",
   "execution_count": 7,
   "id": "69b955cc",
   "metadata": {},
   "outputs": [
    {
     "data": {
      "text/plain": [
       "[('0', 185.8966346153846),\n",
       " ('1', 211.54967948717947),\n",
       " ('2', 207.18429487179486),\n",
       " ('3', 209.43830128205127),\n",
       " ('4', 200.50721153846155)]"
      ]
     },
     "execution_count": 7,
     "metadata": {},
     "output_type": "execute_result"
    }
   ],
   "source": [
    "character_brightness_dict = {}\n",
    "\n",
    "for character in character_file_dict:\n",
    "    img = Image.open(character_file_dict[character]).convert('L')\n",
    "    total = sum(list(img.getdata()))\n",
    "    brightness = total / len(list(img.getdata()))\n",
    "    \n",
    "    character_brightness_dict[character] = brightness\n",
    "    \n",
    "list(character_brightness_dict.items())[:5]"
   ]
  },
  {
   "cell_type": "code",
   "execution_count": 8,
   "id": "d7288f92",
   "metadata": {},
   "outputs": [
    {
     "data": {
      "text/plain": [
       "[('0', 0.245), ('1', 0.567), ('2', 0.512), ('3', 0.541), ('4', 0.428)]"
      ]
     },
     "execution_count": 8,
     "metadata": {},
     "output_type": "execute_result"
    }
   ],
   "source": [
    "# now we need to normalize the data\n",
    "\n",
    "b_max = max(character_brightness_dict.values())\n",
    "b_min = min(character_brightness_dict.values())\n",
    "\n",
    "norm_character_brightness_dict = {}\n",
    "\n",
    "for c in character_brightness_dict:\n",
    "    norm_character_brightness_dict[c] = round(((character_brightness_dict[c] - b_min) / (b_max - b_min)), 3)\n",
    "    \n",
    "list(norm_character_brightness_dict.items())[:5]"
   ]
  },
  {
   "cell_type": "code",
   "execution_count": 9,
   "id": "e3b6e3e7",
   "metadata": {},
   "outputs": [
    {
     "data": {
      "text/html": [
       "<div>\n",
       "<style scoped>\n",
       "    .dataframe tbody tr th:only-of-type {\n",
       "        vertical-align: middle;\n",
       "    }\n",
       "\n",
       "    .dataframe tbody tr th {\n",
       "        vertical-align: top;\n",
       "    }\n",
       "\n",
       "    .dataframe thead th {\n",
       "        text-align: right;\n",
       "    }\n",
       "</style>\n",
       "<table border=\"1\" class=\"dataframe\">\n",
       "  <thead>\n",
       "    <tr style=\"text-align: right;\">\n",
       "      <th></th>\n",
       "      <th>character</th>\n",
       "      <th>brightness</th>\n",
       "    </tr>\n",
       "  </thead>\n",
       "  <tbody>\n",
       "    <tr>\n",
       "      <th>83</th>\n",
       "      <td>@</td>\n",
       "      <td>0.000</td>\n",
       "    </tr>\n",
       "    <tr>\n",
       "      <th>67</th>\n",
       "      <td>&amp;</td>\n",
       "      <td>0.181</td>\n",
       "    </tr>\n",
       "    <tr>\n",
       "      <th>16</th>\n",
       "      <td>g</td>\n",
       "      <td>0.183</td>\n",
       "    </tr>\n",
       "    <tr>\n",
       "      <th>52</th>\n",
       "      <td>Q</td>\n",
       "      <td>0.196</td>\n",
       "    </tr>\n",
       "    <tr>\n",
       "      <th>0</th>\n",
       "      <td>0</td>\n",
       "      <td>0.245</td>\n",
       "    </tr>\n",
       "    <tr>\n",
       "      <th>...</th>\n",
       "      <td>...</td>\n",
       "      <td>...</td>\n",
       "    </tr>\n",
       "    <tr>\n",
       "      <th>73</th>\n",
       "      <td>,</td>\n",
       "      <td>0.905</td>\n",
       "    </tr>\n",
       "    <tr>\n",
       "      <th>77</th>\n",
       "      <td>:</td>\n",
       "      <td>0.920</td>\n",
       "    </tr>\n",
       "    <tr>\n",
       "      <th>68</th>\n",
       "      <td>'</td>\n",
       "      <td>0.990</td>\n",
       "    </tr>\n",
       "    <tr>\n",
       "      <th>74</th>\n",
       "      <td>-</td>\n",
       "      <td>0.992</td>\n",
       "    </tr>\n",
       "    <tr>\n",
       "      <th>75</th>\n",
       "      <td>.</td>\n",
       "      <td>1.000</td>\n",
       "    </tr>\n",
       "  </tbody>\n",
       "</table>\n",
       "<p>85 rows × 2 columns</p>\n",
       "</div>"
      ],
      "text/plain": [
       "   character  brightness\n",
       "83         @       0.000\n",
       "67         &       0.181\n",
       "16         g       0.183\n",
       "52         Q       0.196\n",
       "0          0       0.245\n",
       "..       ...         ...\n",
       "73         ,       0.905\n",
       "77         :       0.920\n",
       "68         '       0.990\n",
       "74         -       0.992\n",
       "75         .       1.000\n",
       "\n",
       "[85 rows x 2 columns]"
      ]
     },
     "execution_count": 9,
     "metadata": {},
     "output_type": "execute_result"
    }
   ],
   "source": [
    "import pandas as pd\n",
    "\n",
    "df_data = [{'character': x, 'brightness': norm_character_brightness_dict[x]} for x in norm_character_brightness_dict]\n",
    "df = pd.DataFrame(df_data)\n",
    "df.sort_values(by='brightness')"
   ]
  },
  {
   "cell_type": "code",
   "execution_count": 10,
   "id": "ca42b0af",
   "metadata": {},
   "outputs": [],
   "source": [
    "import json\n",
    "\n",
    "\n",
    "with open('character_brightness.json', 'w') as file:\n",
    "    data = json.dumps(norm_character_brightness_dict, indent=4)\n",
    "    file.write(data)"
   ]
  }
 ],
 "metadata": {
  "kernelspec": {
   "display_name": "Python 3 (ipykernel)",
   "language": "python",
   "name": "python3"
  },
  "language_info": {
   "codemirror_mode": {
    "name": "ipython",
    "version": 3
   },
   "file_extension": ".py",
   "mimetype": "text/x-python",
   "name": "python",
   "nbconvert_exporter": "python",
   "pygments_lexer": "ipython3",
   "version": "3.9.0"
  }
 },
 "nbformat": 4,
 "nbformat_minor": 5
}
