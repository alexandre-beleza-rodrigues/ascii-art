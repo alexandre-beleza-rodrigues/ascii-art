{
 "cells": [
  {
   "cell_type": "code",
   "execution_count": 1,
   "id": "2bcb6e16",
   "metadata": {},
   "outputs": [],
   "source": [
    "import string"
   ]
  },
  {
   "cell_type": "code",
   "execution_count": 2,
   "id": "a35089a9",
   "metadata": {},
   "outputs": [
    {
     "data": {
      "text/plain": [
       "'0123456789abcdefghijklmnopqrstuvwxyzABCDEFGHIJKLMNOPQRSTUVWXYZ!\"#$%&\\'()*+,-./:;<=>?@[\\\\]^_`{|}~ \\t\\n\\r\\x0b\\x0c'"
      ]
     },
     "execution_count": 2,
     "metadata": {},
     "output_type": "execute_result"
    }
   ],
   "source": [
    "ascii_characters = string.printable\n",
    "ascii_characters "
   ]
  },
  {
   "cell_type": "code",
   "execution_count": 3,
   "id": "d793342b",
   "metadata": {},
   "outputs": [
    {
     "data": {
      "text/plain": [
       "'0123456789abcdefghijklmnopqrstuvwxyzABCDEFGHIJKLMNOPQRSTUVWXYZ!\"#$%&\\'()*+,-./:;<=>?@['"
      ]
     },
     "execution_count": 3,
     "metadata": {},
     "output_type": "execute_result"
    }
   ],
   "source": [
    "ascii_characters = ascii_characters[:-15]\n",
    "ascii_characters"
   ]
  },
  {
   "cell_type": "code",
   "execution_count": 9,
   "id": "b913323b",
   "metadata": {},
   "outputs": [],
   "source": [
    "from selenium import webdriver\n",
    "from selenium.webdriver.common.by import By\n",
    "import time\n",
    "\n",
    "\n",
    "driver = webdriver.Chrome()\n",
    "driver.get('https://onlineasciitools.com/convert-ascii-to-image')\n",
    "\n",
    "driver.maximize_window()\n",
    "time.sleep(1)\n",
    "\n",
    "driver.execute_script('window.scrollTo(0, 900);')\n",
    "\n",
    "font_dropdown = driver.find_element(By.CSS_SELECTOR, \"select.input-option[data-index='typeface']\")\n",
    "font_dropdown.click()\n",
    "\n",
    "monospace_option = driver.find_element(By.CSS_SELECTOR, \"option[value='monospace']\")\n",
    "monospace_option.click()\n",
    "\n",
    "driver.execute_script('window.scrollTo(0, 100);')   \n",
    "\n",
    "input_area = driver.find_element(By.CSS_SELECTOR, \"textarea.data\")\n",
    "for character in ascii_characters:\n",
    "    input_area.send_keys(character)\n",
    "    \n",
    "    time.sleep(1)\n",
    "    \n",
    "    save_btn = driver.find_elements(By.CSS_SELECTOR, \"div[data-toggle='toggle-save-as']\")[1]\n",
    "    save_btn.click()\n",
    "    \n",
    "    time.sleep(2)\n",
    "    \n",
    "    download_btn = driver.find_elements(By.CSS_SELECTOR, \"div.widget.widget-save-as\")[1]\n",
    "    download_btn.click()\n",
    "    \n",
    "    input_area.clear()\n",
    "\n",
    "driver.close()"
   ]
  },
  {
   "cell_type": "code",
   "execution_count": 28,
   "id": "688b57eb",
   "metadata": {},
   "outputs": [
    {
     "data": {
      "text/plain": [
       "['ascii_images/output-onlineasciitools.png',\n",
       " 'ascii_images/output-onlineasciitools (1).png',\n",
       " 'ascii_images/output-onlineasciitools (2).png',\n",
       " 'ascii_images/output-onlineasciitools (3).png',\n",
       " 'ascii_images/output-onlineasciitools (4).png']"
      ]
     },
     "execution_count": 28,
     "metadata": {},
     "output_type": "execute_result"
    }
   ],
   "source": [
    "file_names = ['output-onlineasciitools.png'] + [f'output-onlineasciitools ({num}).png' for num in range(1, 85)]\n",
    "file_dirs = [f'ascii_images/{file_name}' for file_name in file_names]\n",
    "\n",
    "file_dirs[:5]"
   ]
  },
  {
   "cell_type": "code",
   "execution_count": 5,
   "id": "bbffaca2",
   "metadata": {},
   "outputs": [],
   "source": [
    "# because all the files are in the same order as 'ascii_characters' we can just iterante through them and associate them\n",
    "# with their respective carachter"
   ]
  },
  {
   "cell_type": "code",
   "execution_count": 29,
   "id": "370d9bb2",
   "metadata": {},
   "outputs": [
    {
     "data": {
      "image/png": "[encoded data removed]",
      "text/plain": [
       "<PIL.Image.Image image mode=L size=26x48 at 0x2AC377790D0>"
      ]
     },
     "execution_count": 29,
     "metadata": {},
     "output_type": "execute_result"
    }
   ],
   "source": [
    "from PIL import Image\n",
    "img = Image.open('ascii_images/output-onlineasciitools.png').convert('L')\n",
    "\n",
    "img"
   ]
  },
  {
   "cell_type": "code",
   "execution_count": 30,
   "id": "233d8d96",
   "metadata": {},
   "outputs": [
    {
     "data": {
      "text/plain": [
       "[255, 255, 255, 255, 255, 255, 255, 255, 255, 255]"
      ]
     },
     "execution_count": 30,
     "metadata": {},
     "output_type": "execute_result"
    }
   ],
   "source": [
    "list(img.getdata())[:10]"
   ]
  },
  {
   "cell_type": "code",
   "execution_count": 31,
   "id": "df17c0d6",
   "metadata": {},
   "outputs": [
    {
     "data": {
      "text/plain": [
       "1248"
      ]
     },
     "execution_count": 31,
     "metadata": {},
     "output_type": "execute_result"
    }
   ],
   "source": [
    "len(list(img.getdata()))"
   ]
  },
  {
   "cell_type": "code",
   "execution_count": 32,
   "id": "4742d743",
   "metadata": {},
   "outputs": [
    {
     "data": {
      "text/plain": [
       "1248"
      ]
     },
     "execution_count": 32,
     "metadata": {},
     "output_type": "execute_result"
    }
   ],
   "source": [
    "26*48"
   ]
  },
  {
   "cell_type": "code",
   "execution_count": 11,
   "id": "f003153b",
   "metadata": {},
   "outputs": [],
   "source": [
    "# this means that each value corresponde to the brightness\n",
    "# now to calculate the brightness of each character i am going to calculate the average of all the pixels"
   ]
  },
  {
   "cell_type": "code",
   "execution_count": 35,
   "id": "5777c415",
   "metadata": {},
   "outputs": [
    {
     "data": {
      "text/plain": [
       "'ascii_images/output-onlineasciitools.png'"
      ]
     },
     "execution_count": 35,
     "metadata": {},
     "output_type": "execute_result"
    }
   ],
   "source": [
    "character_file_dict = {}\n",
    "\n",
    "for x in range(85):\n",
    "    character_file_dict[ascii_characters[x]] = file_dirs[x]\n",
    "    \n",
    "character_file_dict['0']"
   ]
  },
  {
   "cell_type": "code",
   "execution_count": 37,
   "id": "69b955cc",
   "metadata": {},
   "outputs": [
    {
     "data": {
      "text/plain": [
       "{'0': 185.8966346153846,\n",
       " '1': 211.54967948717947,\n",
       " '2': 207.18429487179486,\n",
       " '3': 209.43830128205127,\n",
       " '4': 200.50721153846155,\n",
       " '5': 206.75,\n",
       " '6': 199.84375,\n",
       " '7': 216.78445512820514,\n",
       " '8': 187.89342948717947,\n",
       " '9': 199.87740384615384,\n",
       " 'a': 204.8790064102564,\n",
       " 'b': 197.48798076923077,\n",
       " 'c': 220.5216346153846,\n",
       " 'd': 198.15785256410257,\n",
       " 'e': 205.54006410256412,\n",
       " 'f': 210.05208333333334,\n",
       " 'g': 180.97596153846155,\n",
       " 'h': 203.3084935897436,\n",
       " 'i': 215.7852564102564,\n",
       " 'j': 207.03044871794873,\n",
       " 'k': 206.22035256410257,\n",
       " 'l': 215.7988782051282,\n",
       " 'm': 197.97756410256412,\n",
       " 'n': 210.91266025641025,\n",
       " 'o': 206.58573717948718,\n",
       " 'p': 197.16266025641025,\n",
       " 'q': 197.75240384615384,\n",
       " 'r': 222.02964743589743,\n",
       " 's': 214.06089743589743,\n",
       " 't': 212.2540064102564,\n",
       " 'u': 211.21634615384616,\n",
       " 'v': 217.78766025641025,\n",
       " 'w': 202.88301282051282,\n",
       " 'x': 212.86298076923077,\n",
       " 'y': 204.24198717948718,\n",
       " 'z': 214.39423076923077,\n",
       " 'A': 197.57532051282053,\n",
       " 'B': 186.7636217948718,\n",
       " 'C': 210.2540064102564,\n",
       " 'D': 193.11778846153845,\n",
       " 'E': 202.49278846153845,\n",
       " 'F': 213.11939102564102,\n",
       " 'G': 195.43669871794873,\n",
       " 'H': 196.76602564102564,\n",
       " 'I': 210.42868589743588,\n",
       " 'J': 215.40705128205127,\n",
       " 'K': 202.19791666666666,\n",
       " 'L': 221.0721153846154,\n",
       " 'M': 188.92628205128204,\n",
       " 'N': 188.85897435897436,\n",
       " 'O': 194.0584935897436,\n",
       " 'P': 202.8926282051282,\n",
       " 'Q': 182.00881410256412,\n",
       " 'R': 195.79407051282053,\n",
       " 'S': 204.8261217948718,\n",
       " 'T': 217.64743589743588,\n",
       " 'U': 200.56810897435898,\n",
       " 'V': 205.35657051282053,\n",
       " 'W': 188.94551282051282,\n",
       " 'X': 200.87580128205127,\n",
       " 'Y': 213.31810897435898,\n",
       " 'Z': 202.78926282051282,\n",
       " '!': 229.5176282051282,\n",
       " '\"': 236.28926282051282,\n",
       " '#': 194.79727564102564,\n",
       " '$': 187.38141025641025,\n",
       " '%': 191.45192307692307,\n",
       " '&': 180.80208333333334,\n",
       " \"'\": 245.21314102564102,\n",
       " '(': 219.1915064102564,\n",
       " ')': 219.27884615384616,\n",
       " '*': 229.55368589743588,\n",
       " '+': 224.54166666666666,\n",
       " ',': 238.41666666666666,\n",
       " '-': 245.3341346153846,\n",
       " '.': 245.99118589743588,\n",
       " '/': 227.68028846153845,\n",
       " ':': 239.66105769230768,\n",
       " ';': 230.8397435897436,\n",
       " '<': 230.50160256410257,\n",
       " '=': 226.81410256410257,\n",
       " '>': 230.62019230769232,\n",
       " '?': 222.78846153846155,\n",
       " '@': 166.43189102564102,\n",
       " '[': 214.5176282051282}"
      ]
     },
     "execution_count": 37,
     "metadata": {},
     "output_type": "execute_result"
    }
   ],
   "source": [
    "brightness_dict = {}\n",
    "\n",
    "for character in character_file_dict:\n",
    "    img = Image.open(character_file_dict[character]).convert('L')\n",
    "    \n",
    "    total = 0\n",
    "    for x in list(img.getdata()):\n",
    "        total += x\n",
    "        \n",
    "    brightness = total / len(list(img.getdata()))\n",
    "    \n",
    "    brightness_dict[character] = brightness\n",
    "    \n",
    "brightness_dict"
   ]
  },
  {
   "cell_type": "code",
   "execution_count": 27,
   "id": "e3b6e3e7",
   "metadata": {},
   "outputs": [
    {
     "data": {
      "text/html": [
       "<div>\n",
       "<style scoped>\n",
       "    .dataframe tbody tr th:only-of-type {\n",
       "        vertical-align: middle;\n",
       "    }\n",
       "\n",
       "    .dataframe tbody tr th {\n",
       "        vertical-align: top;\n",
       "    }\n",
       "\n",
       "    .dataframe thead th {\n",
       "        text-align: right;\n",
       "    }\n",
       "</style>\n",
       "<table border=\"1\" class=\"dataframe\">\n",
       "  <thead>\n",
       "    <tr style=\"text-align: right;\">\n",
       "      <th></th>\n",
       "      <th>c</th>\n",
       "      <th>b</th>\n",
       "    </tr>\n",
       "  </thead>\n",
       "  <tbody>\n",
       "    <tr>\n",
       "      <th>83</th>\n",
       "      <td>@</td>\n",
       "      <td>166.431891</td>\n",
       "    </tr>\n",
       "    <tr>\n",
       "      <th>67</th>\n",
       "      <td>&amp;</td>\n",
       "      <td>180.802083</td>\n",
       "    </tr>\n",
       "    <tr>\n",
       "      <th>16</th>\n",
       "      <td>g</td>\n",
       "      <td>180.975962</td>\n",
       "    </tr>\n",
       "    <tr>\n",
       "      <th>52</th>\n",
       "      <td>Q</td>\n",
       "      <td>182.008814</td>\n",
       "    </tr>\n",
       "    <tr>\n",
       "      <th>0</th>\n",
       "      <td>0</td>\n",
       "      <td>185.896635</td>\n",
       "    </tr>\n",
       "    <tr>\n",
       "      <th>...</th>\n",
       "      <td>...</td>\n",
       "      <td>...</td>\n",
       "    </tr>\n",
       "    <tr>\n",
       "      <th>73</th>\n",
       "      <td>,</td>\n",
       "      <td>238.416667</td>\n",
       "    </tr>\n",
       "    <tr>\n",
       "      <th>77</th>\n",
       "      <td>:</td>\n",
       "      <td>239.661058</td>\n",
       "    </tr>\n",
       "    <tr>\n",
       "      <th>68</th>\n",
       "      <td>'</td>\n",
       "      <td>245.213141</td>\n",
       "    </tr>\n",
       "    <tr>\n",
       "      <th>74</th>\n",
       "      <td>-</td>\n",
       "      <td>245.334135</td>\n",
       "    </tr>\n",
       "    <tr>\n",
       "      <th>75</th>\n",
       "      <td>.</td>\n",
       "      <td>245.991186</td>\n",
       "    </tr>\n",
       "  </tbody>\n",
       "</table>\n",
       "<p>85 rows × 2 columns</p>\n",
       "</div>"
      ],
      "text/plain": [
       "    c           b\n",
       "83  @  166.431891\n",
       "67  &  180.802083\n",
       "16  g  180.975962\n",
       "52  Q  182.008814\n",
       "0   0  185.896635\n",
       ".. ..         ...\n",
       "73  ,  238.416667\n",
       "77  :  239.661058\n",
       "68  '  245.213141\n",
       "74  -  245.334135\n",
       "75  .  245.991186\n",
       "\n",
       "[85 rows x 2 columns]"
      ]
     },
     "execution_count": 27,
     "metadata": {},
     "output_type": "execute_result"
    }
   ],
   "source": [
    "df_data = [{'c':x, 'b':brightness_dict[x]} for x in brightness_dict]\n",
    "\n",
    "import pandas as pd\n",
    "\n",
    "df = pd.DataFrame(df_data)\n",
    "df.sort_values(by='b')"
   ]
  },
  {
   "cell_type": "code",
   "execution_count": 40,
   "id": "d7288f92",
   "metadata": {},
   "outputs": [
    {
     "data": {
      "text/plain": [
       "{'0': 0.245,\n",
       " '1': 0.567,\n",
       " '2': 0.512,\n",
       " '3': 0.541,\n",
       " '4': 0.428,\n",
       " '5': 0.507,\n",
       " '6': 0.42,\n",
       " '7': 0.633,\n",
       " '8': 0.27,\n",
       " '9': 0.42,\n",
       " 'a': 0.483,\n",
       " 'b': 0.39,\n",
       " 'c': 0.68,\n",
       " 'd': 0.399,\n",
       " 'e': 0.492,\n",
       " 'f': 0.548,\n",
       " 'g': 0.183,\n",
       " 'h': 0.464,\n",
       " 'i': 0.62,\n",
       " 'j': 0.51,\n",
       " 'k': 0.5,\n",
       " 'l': 0.621,\n",
       " 'm': 0.397,\n",
       " 'n': 0.559,\n",
       " 'o': 0.505,\n",
       " 'p': 0.386,\n",
       " 'q': 0.394,\n",
       " 'r': 0.699,\n",
       " 's': 0.599,\n",
       " 't': 0.576,\n",
       " 'u': 0.563,\n",
       " 'v': 0.646,\n",
       " 'w': 0.458,\n",
       " 'x': 0.584,\n",
       " 'y': 0.475,\n",
       " 'z': 0.603,\n",
       " 'A': 0.391,\n",
       " 'B': 0.256,\n",
       " 'C': 0.551,\n",
       " 'D': 0.335,\n",
       " 'E': 0.453,\n",
       " 'F': 0.587,\n",
       " 'G': 0.365,\n",
       " 'H': 0.381,\n",
       " 'I': 0.553,\n",
       " 'J': 0.616,\n",
       " 'K': 0.45,\n",
       " 'L': 0.687,\n",
       " 'M': 0.283,\n",
       " 'N': 0.282,\n",
       " 'O': 0.347,\n",
       " 'P': 0.458,\n",
       " 'Q': 0.196,\n",
       " 'R': 0.369,\n",
       " 'S': 0.483,\n",
       " 'T': 0.644,\n",
       " 'U': 0.429,\n",
       " 'V': 0.489,\n",
       " 'W': 0.283,\n",
       " 'X': 0.433,\n",
       " 'Y': 0.589,\n",
       " 'Z': 0.457,\n",
       " '!': 0.793,\n",
       " '\"': 0.878,\n",
       " '#': 0.357,\n",
       " '$': 0.263,\n",
       " '%': 0.314,\n",
       " '&': 0.181,\n",
       " \"'\": 0.99,\n",
       " '(': 0.663,\n",
       " ')': 0.664,\n",
       " '*': 0.793,\n",
       " '+': 0.73,\n",
       " ',': 0.905,\n",
       " '-': 0.992,\n",
       " '.': 1.0,\n",
       " '/': 0.77,\n",
       " ':': 0.92,\n",
       " ';': 0.81,\n",
       " '<': 0.805,\n",
       " '=': 0.759,\n",
       " '>': 0.807,\n",
       " '?': 0.708,\n",
       " '@': 0.0,\n",
       " '[': 0.604}"
      ]
     },
     "execution_count": 40,
     "metadata": {},
     "output_type": "execute_result"
    }
   ],
   "source": [
    "# now we need to normalize the data\n",
    "\n",
    "b_max = 245.991186\n",
    "b_min = 166.431891\n",
    "\n",
    "norm_b_dict = {}\n",
    "\n",
    "for c in brightness_dict:\n",
    "    norm_b_dict[c] = round(((brightness_dict[c] - b_min) / (b_max - b_min)), 3)\n",
    "    \n",
    "norm_b_dict"
   ]
  },
  {
   "cell_type": "code",
   "execution_count": 52,
   "id": "67f92e47",
   "metadata": {},
   "outputs": [],
   "source": [
    "def get_c(b_value):\n",
    "    c = ('', 2)\n",
    "    \n",
    "    for x in norm_b_dict:\n",
    "        r = abs(b_value - norm_b_dict[x])\n",
    "        \n",
    "        if r < c[1]:\n",
    "            c = (x, r)\n",
    "    \n",
    "    return c[0]\n",
    "    "
   ]
  },
  {
   "cell_type": "code",
   "execution_count": 54,
   "id": "1ede05bb",
   "metadata": {},
   "outputs": [
    {
     "data": {
      "text/plain": [
       "'.'"
      ]
     },
     "execution_count": 54,
     "metadata": {},
     "output_type": "execute_result"
    }
   ],
   "source": [
    "get_c(1)"
   ]
  },
  {
   "cell_type": "code",
   "execution_count": null,
   "id": "cfea2b27",
   "metadata": {},
   "outputs": [],
   "source": []
  }
 ],
 "metadata": {
  "kernelspec": {
   "display_name": "Python 3 (ipykernel)",
   "language": "python",
   "name": "python3"
  },
  "language_info": {
   "codemirror_mode": {
    "name": "ipython",
    "version": 3
   },
   "file_extension": ".py",
   "mimetype": "text/x-python",
   "name": "python",
   "nbconvert_exporter": "python",
   "pygments_lexer": "ipython3",
   "version": "3.9.0"
  }
 },
 "nbformat": 4,
 "nbformat_minor": 5
}
